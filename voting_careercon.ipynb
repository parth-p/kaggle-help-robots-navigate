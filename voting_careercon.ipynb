{
  "nbformat": 4,
  "nbformat_minor": 0,
  "metadata": {
    "colab": {
      "name": "careercon.ipynb",
      "version": "0.3.2",
      "provenance": [],
      "collapsed_sections": []
    },
    "kernelspec": {
      "name": "python3",
      "display_name": "Python 3"
    }
  },
  "cells": [
    {
      "metadata": {
        "id": "ttAWHem3mlqn",
        "colab_type": "code",
        "outputId": "86f76e2c-261a-4526-90ef-d62acf94540f",
        "colab": {
          "base_uri": "https://localhost:8080/",
          "height": 208
        }
      },
      "cell_type": "code",
      "source": [
        "!pip install kaggle"
      ],
      "execution_count": 0,
      "outputs": [
        {
          "output_type": "stream",
          "text": [
            "Requirement already satisfied: kaggle in /usr/local/lib/python3.6/dist-packages (1.5.3)\n",
            "Requirement already satisfied: urllib3<1.25,>=1.21.1 in /usr/local/lib/python3.6/dist-packages (from kaggle) (1.22)\n",
            "Requirement already satisfied: six>=1.10 in /usr/local/lib/python3.6/dist-packages (from kaggle) (1.11.0)\n",
            "Requirement already satisfied: certifi in /usr/local/lib/python3.6/dist-packages (from kaggle) (2019.3.9)\n",
            "Requirement already satisfied: python-dateutil in /usr/local/lib/python3.6/dist-packages (from kaggle) (2.5.3)\n",
            "Requirement already satisfied: requests in /usr/local/lib/python3.6/dist-packages (from kaggle) (2.18.4)\n",
            "Requirement already satisfied: tqdm in /usr/local/lib/python3.6/dist-packages (from kaggle) (4.28.1)\n",
            "Requirement already satisfied: python-slugify in /usr/local/lib/python3.6/dist-packages (from kaggle) (3.0.0)\n",
            "Requirement already satisfied: idna<2.7,>=2.5 in /usr/local/lib/python3.6/dist-packages (from requests->kaggle) (2.6)\n",
            "Requirement already satisfied: chardet<3.1.0,>=3.0.2 in /usr/local/lib/python3.6/dist-packages (from requests->kaggle) (3.0.4)\n",
            "Requirement already satisfied: text-unidecode==1.2 in /usr/local/lib/python3.6/dist-packages (from python-slugify->kaggle) (1.2)\n"
          ],
          "name": "stdout"
        }
      ]
    },
    {
      "metadata": {
        "id": "hvTucjVmmyZ7",
        "colab_type": "code",
        "colab": {}
      },
      "cell_type": "code",
      "source": [
        "!export KAGGLE_USERNAME=parthpartani\n",
        "!export KAGGLE_KEY=f131feed2dd3ba88ad0100c3e5cdadbd"
      ],
      "execution_count": 0,
      "outputs": []
    },
    {
      "metadata": {
        "id": "F7FFihmRnagg",
        "colab_type": "code",
        "outputId": "d3cf6117-ab67-4a7e-a199-c714bc5d2285",
        "colab": {
          "resources": {
            "http://localhost:8080/nbextensions/google.colab/files.js": {
              "data": "Ly8gQ29weXJpZ2h0IDIwMTcgR29vZ2xlIExMQwovLwovLyBMaWNlbnNlZCB1bmRlciB0aGUgQXBhY2hlIExpY2Vuc2UsIFZlcnNpb24gMi4wICh0aGUgIkxpY2Vuc2UiKTsKLy8geW91IG1heSBub3QgdXNlIHRoaXMgZmlsZSBleGNlcHQgaW4gY29tcGxpYW5jZSB3aXRoIHRoZSBMaWNlbnNlLgovLyBZb3UgbWF5IG9idGFpbiBhIGNvcHkgb2YgdGhlIExpY2Vuc2UgYXQKLy8KLy8gICAgICBodHRwOi8vd3d3LmFwYWNoZS5vcmcvbGljZW5zZXMvTElDRU5TRS0yLjAKLy8KLy8gVW5sZXNzIHJlcXVpcmVkIGJ5IGFwcGxpY2FibGUgbGF3IG9yIGFncmVlZCB0byBpbiB3cml0aW5nLCBzb2Z0d2FyZQovLyBkaXN0cmlidXRlZCB1bmRlciB0aGUgTGljZW5zZSBpcyBkaXN0cmlidXRlZCBvbiBhbiAiQVMgSVMiIEJBU0lTLAovLyBXSVRIT1VUIFdBUlJBTlRJRVMgT1IgQ09ORElUSU9OUyBPRiBBTlkgS0lORCwgZWl0aGVyIGV4cHJlc3Mgb3IgaW1wbGllZC4KLy8gU2VlIHRoZSBMaWNlbnNlIGZvciB0aGUgc3BlY2lmaWMgbGFuZ3VhZ2UgZ292ZXJuaW5nIHBlcm1pc3Npb25zIGFuZAovLyBsaW1pdGF0aW9ucyB1bmRlciB0aGUgTGljZW5zZS4KCi8qKgogKiBAZmlsZW92ZXJ2aWV3IEhlbHBlcnMgZm9yIGdvb2dsZS5jb2xhYiBQeXRob24gbW9kdWxlLgogKi8KKGZ1bmN0aW9uKHNjb3BlKSB7CmZ1bmN0aW9uIHNwYW4odGV4dCwgc3R5bGVBdHRyaWJ1dGVzID0ge30pIHsKICBjb25zdCBlbGVtZW50ID0gZG9jdW1lbnQuY3JlYXRlRWxlbWVudCgnc3BhbicpOwogIGVsZW1lbnQudGV4dENvbnRlbnQgPSB0ZXh0OwogIGZvciAoY29uc3Qga2V5IG9mIE9iamVjdC5rZXlzKHN0eWxlQXR0cmlidXRlcykpIHsKICAgIGVsZW1lbnQuc3R5bGVba2V5XSA9IHN0eWxlQXR0cmlidXRlc1trZXldOwogIH0KICByZXR1cm4gZWxlbWVudDsKfQoKLy8gTWF4IG51bWJlciBvZiBieXRlcyB3aGljaCB3aWxsIGJlIHVwbG9hZGVkIGF0IGEgdGltZS4KY29uc3QgTUFYX1BBWUxPQURfU0laRSA9IDEwMCAqIDEwMjQ7Ci8vIE1heCBhbW91bnQgb2YgdGltZSB0byBibG9jayB3YWl0aW5nIGZvciB0aGUgdXNlci4KY29uc3QgRklMRV9DSEFOR0VfVElNRU9VVF9NUyA9IDMwICogMTAwMDsKCmZ1bmN0aW9uIF91cGxvYWRGaWxlcyhpbnB1dElkLCBvdXRwdXRJZCkgewogIGNvbnN0IHN0ZXBzID0gdXBsb2FkRmlsZXNTdGVwKGlucHV0SWQsIG91dHB1dElkKTsKICBjb25zdCBvdXRwdXRFbGVtZW50ID0gZG9jdW1lbnQuZ2V0RWxlbWVudEJ5SWQob3V0cHV0SWQpOwogIC8vIENhY2hlIHN0ZXBzIG9uIHRoZSBvdXRwdXRFbGVtZW50IHRvIG1ha2UgaXQgYXZhaWxhYmxlIGZvciB0aGUgbmV4dCBjYWxsCiAgLy8gdG8gdXBsb2FkRmlsZXNDb250aW51ZSBmcm9tIFB5dGhvbi4KICBvdXRwdXRFbGVtZW50LnN0ZXBzID0gc3RlcHM7CgogIHJldHVybiBfdXBsb2FkRmlsZXNDb250aW51ZShvdXRwdXRJZCk7Cn0KCi8vIFRoaXMgaXMgcm91Z2hseSBhbiBhc3luYyBnZW5lcmF0b3IgKG5vdCBzdXBwb3J0ZWQgaW4gdGhlIGJyb3dzZXIgeWV0KSwKLy8gd2hlcmUgdGhlcmUgYXJlIG11bHRpcGxlIGFzeW5jaHJvbm91cyBzdGVwcyBhbmQgdGhlIFB5dGhvbiBzaWRlIGlzIGdvaW5nCi8vIHRvIHBvbGwgZm9yIGNvbXBsZXRpb24gb2YgZWFjaCBzdGVwLgovLyBUaGlzIHVzZXMgYSBQcm9taXNlIHRvIGJsb2NrIHRoZSBweXRob24gc2lkZSBvbiBjb21wbGV0aW9uIG9mIGVhY2ggc3RlcCwKLy8gdGhlbiBwYXNzZXMgdGhlIHJlc3VsdCBvZiB0aGUgcHJldmlvdXMgc3RlcCBhcyB0aGUgaW5wdXQgdG8gdGhlIG5leHQgc3RlcC4KZnVuY3Rpb24gX3VwbG9hZEZpbGVzQ29udGludWUob3V0cHV0SWQpIHsKICBjb25zdCBvdXRwdXRFbGVtZW50ID0gZG9jdW1lbnQuZ2V0RWxlbWVudEJ5SWQob3V0cHV0SWQpOwogIGNvbnN0IHN0ZXBzID0gb3V0cHV0RWxlbWVudC5zdGVwczsKCiAgY29uc3QgbmV4dCA9IHN0ZXBzLm5leHQob3V0cHV0RWxlbWVudC5sYXN0UHJvbWlzZVZhbHVlKTsKICByZXR1cm4gUHJvbWlzZS5yZXNvbHZlKG5leHQudmFsdWUucHJvbWlzZSkudGhlbigodmFsdWUpID0+IHsKICAgIC8vIENhY2hlIHRoZSBsYXN0IHByb21pc2UgdmFsdWUgdG8gbWFrZSBpdCBhdmFpbGFibGUgdG8gdGhlIG5leHQKICAgIC8vIHN0ZXAgb2YgdGhlIGdlbmVyYXRvci4KICAgIG91dHB1dEVsZW1lbnQubGFzdFByb21pc2VWYWx1ZSA9IHZhbHVlOwogICAgcmV0dXJuIG5leHQudmFsdWUucmVzcG9uc2U7CiAgfSk7Cn0KCi8qKgogKiBHZW5lcmF0b3IgZnVuY3Rpb24gd2hpY2ggaXMgY2FsbGVkIGJldHdlZW4gZWFjaCBhc3luYyBzdGVwIG9mIHRoZSB1cGxvYWQKICogcHJvY2Vzcy4KICogQHBhcmFtIHtzdHJpbmd9IGlucHV0SWQgRWxlbWVudCBJRCBvZiB0aGUgaW5wdXQgZmlsZSBwaWNrZXIgZWxlbWVudC4KICogQHBhcmFtIHtzdHJpbmd9IG91dHB1dElkIEVsZW1lbnQgSUQgb2YgdGhlIG91dHB1dCBkaXNwbGF5LgogKiBAcmV0dXJuIHshSXRlcmFibGU8IU9iamVjdD59IEl0ZXJhYmxlIG9mIG5leHQgc3RlcHMuCiAqLwpmdW5jdGlvbiogdXBsb2FkRmlsZXNTdGVwKGlucHV0SWQsIG91dHB1dElkKSB7CiAgY29uc3QgaW5wdXRFbGVtZW50ID0gZG9jdW1lbnQuZ2V0RWxlbWVudEJ5SWQoaW5wdXRJZCk7CiAgaW5wdXRFbGVtZW50LmRpc2FibGVkID0gZmFsc2U7CgogIGNvbnN0IG91dHB1dEVsZW1lbnQgPSBkb2N1bWVudC5nZXRFbGVtZW50QnlJZChvdXRwdXRJZCk7CiAgb3V0cHV0RWxlbWVudC5pbm5lckhUTUwgPSAnJzsKCiAgY29uc3QgcGlja2VkUHJvbWlzZSA9IG5ldyBQcm9taXNlKChyZXNvbHZlKSA9PiB7CiAgICBpbnB1dEVsZW1lbnQuYWRkRXZlbnRMaXN0ZW5lcignY2hhbmdlJywgKGUpID0+IHsKICAgICAgcmVzb2x2ZShlLnRhcmdldC5maWxlcyk7CiAgICB9KTsKICB9KTsKCiAgY29uc3QgY2FuY2VsID0gZG9jdW1lbnQuY3JlYXRlRWxlbWVudCgnYnV0dG9uJyk7CiAgaW5wdXRFbGVtZW50LnBhcmVudEVsZW1lbnQuYXBwZW5kQ2hpbGQoY2FuY2VsKTsKICBjYW5jZWwudGV4dENvbnRlbnQgPSAnQ2FuY2VsIHVwbG9hZCc7CiAgY29uc3QgY2FuY2VsUHJvbWlzZSA9IG5ldyBQcm9taXNlKChyZXNvbHZlKSA9PiB7CiAgICBjYW5jZWwub25jbGljayA9ICgpID0+IHsKICAgICAgcmVzb2x2ZShudWxsKTsKICAgIH07CiAgfSk7CgogIC8vIENhbmNlbCB1cGxvYWQgaWYgdXNlciBoYXNuJ3QgcGlja2VkIGFueXRoaW5nIGluIHRpbWVvdXQuCiAgY29uc3QgdGltZW91dFByb21pc2UgPSBuZXcgUHJvbWlzZSgocmVzb2x2ZSkgPT4gewogICAgc2V0VGltZW91dCgoKSA9PiB7CiAgICAgIHJlc29sdmUobnVsbCk7CiAgICB9LCBGSUxFX0NIQU5HRV9USU1FT1VUX01TKTsKICB9KTsKCiAgLy8gV2FpdCBmb3IgdGhlIHVzZXIgdG8gcGljayB0aGUgZmlsZXMuCiAgY29uc3QgZmlsZXMgPSB5aWVsZCB7CiAgICBwcm9taXNlOiBQcm9taXNlLnJhY2UoW3BpY2tlZFByb21pc2UsIHRpbWVvdXRQcm9taXNlLCBjYW5jZWxQcm9taXNlXSksCiAgICByZXNwb25zZTogewogICAgICBhY3Rpb246ICdzdGFydGluZycsCiAgICB9CiAgfTsKCiAgaWYgKCFmaWxlcykgewogICAgcmV0dXJuIHsKICAgICAgcmVzcG9uc2U6IHsKICAgICAgICBhY3Rpb246ICdjb21wbGV0ZScsCiAgICAgIH0KICAgIH07CiAgfQoKICBjYW5jZWwucmVtb3ZlKCk7CgogIC8vIERpc2FibGUgdGhlIGlucHV0IGVsZW1lbnQgc2luY2UgZnVydGhlciBwaWNrcyBhcmUgbm90IGFsbG93ZWQuCiAgaW5wdXRFbGVtZW50LmRpc2FibGVkID0gdHJ1ZTsKCiAgZm9yIChjb25zdCBmaWxlIG9mIGZpbGVzKSB7CiAgICBjb25zdCBsaSA9IGRvY3VtZW50LmNyZWF0ZUVsZW1lbnQoJ2xpJyk7CiAgICBsaS5hcHBlbmQoc3BhbihmaWxlLm5hbWUsIHtmb250V2VpZ2h0OiAnYm9sZCd9KSk7CiAgICBsaS5hcHBlbmQoc3BhbigKICAgICAgICBgKCR7ZmlsZS50eXBlIHx8ICduL2EnfSkgLSAke2ZpbGUuc2l6ZX0gYnl0ZXMsIGAgKwogICAgICAgIGBsYXN0IG1vZGlmaWVkOiAkewogICAgICAgICAgICBmaWxlLmxhc3RNb2RpZmllZERhdGUgPyBmaWxlLmxhc3RNb2RpZmllZERhdGUudG9Mb2NhbGVEYXRlU3RyaW5nKCkgOgogICAgICAgICAgICAgICAgICAgICAgICAgICAgICAgICAgICAnbi9hJ30gLSBgKSk7CiAgICBjb25zdCBwZXJjZW50ID0gc3BhbignMCUgZG9uZScpOwogICAgbGkuYXBwZW5kQ2hpbGQocGVyY2VudCk7CgogICAgb3V0cHV0RWxlbWVudC5hcHBlbmRDaGlsZChsaSk7CgogICAgY29uc3QgZmlsZURhdGFQcm9taXNlID0gbmV3IFByb21pc2UoKHJlc29sdmUpID0+IHsKICAgICAgY29uc3QgcmVhZGVyID0gbmV3IEZpbGVSZWFkZXIoKTsKICAgICAgcmVhZGVyLm9ubG9hZCA9IChlKSA9PiB7CiAgICAgICAgcmVzb2x2ZShlLnRhcmdldC5yZXN1bHQpOwogICAgICB9OwogICAgICByZWFkZXIucmVhZEFzQXJyYXlCdWZmZXIoZmlsZSk7CiAgICB9KTsKICAgIC8vIFdhaXQgZm9yIHRoZSBkYXRhIHRvIGJlIHJlYWR5LgogICAgbGV0IGZpbGVEYXRhID0geWllbGQgewogICAgICBwcm9taXNlOiBmaWxlRGF0YVByb21pc2UsCiAgICAgIHJlc3BvbnNlOiB7CiAgICAgICAgYWN0aW9uOiAnY29udGludWUnLAogICAgICB9CiAgICB9OwoKICAgIC8vIFVzZSBhIGNodW5rZWQgc2VuZGluZyB0byBhdm9pZCBtZXNzYWdlIHNpemUgbGltaXRzLiBTZWUgYi82MjExNTY2MC4KICAgIGxldCBwb3NpdGlvbiA9IDA7CiAgICB3aGlsZSAocG9zaXRpb24gPCBmaWxlRGF0YS5ieXRlTGVuZ3RoKSB7CiAgICAgIGNvbnN0IGxlbmd0aCA9IE1hdGgubWluKGZpbGVEYXRhLmJ5dGVMZW5ndGggLSBwb3NpdGlvbiwgTUFYX1BBWUxPQURfU0laRSk7CiAgICAgIGNvbnN0IGNodW5rID0gbmV3IFVpbnQ4QXJyYXkoZmlsZURhdGEsIHBvc2l0aW9uLCBsZW5ndGgpOwogICAgICBwb3NpdGlvbiArPSBsZW5ndGg7CgogICAgICBjb25zdCBiYXNlNjQgPSBidG9hKFN0cmluZy5mcm9tQ2hhckNvZGUuYXBwbHkobnVsbCwgY2h1bmspKTsKICAgICAgeWllbGQgewogICAgICAgIHJlc3BvbnNlOiB7CiAgICAgICAgICBhY3Rpb246ICdhcHBlbmQnLAogICAgICAgICAgZmlsZTogZmlsZS5uYW1lLAogICAgICAgICAgZGF0YTogYmFzZTY0LAogICAgICAgIH0sCiAgICAgIH07CiAgICAgIHBlcmNlbnQudGV4dENvbnRlbnQgPQogICAgICAgICAgYCR7TWF0aC5yb3VuZCgocG9zaXRpb24gLyBmaWxlRGF0YS5ieXRlTGVuZ3RoKSAqIDEwMCl9JSBkb25lYDsKICAgIH0KICB9CgogIC8vIEFsbCBkb25lLgogIHlpZWxkIHsKICAgIHJlc3BvbnNlOiB7CiAgICAgIGFjdGlvbjogJ2NvbXBsZXRlJywKICAgIH0KICB9Owp9CgpzY29wZS5nb29nbGUgPSBzY29wZS5nb29nbGUgfHwge307CnNjb3BlLmdvb2dsZS5jb2xhYiA9IHNjb3BlLmdvb2dsZS5jb2xhYiB8fCB7fTsKc2NvcGUuZ29vZ2xlLmNvbGFiLl9maWxlcyA9IHsKICBfdXBsb2FkRmlsZXMsCiAgX3VwbG9hZEZpbGVzQ29udGludWUsCn07Cn0pKHNlbGYpOwo=",
              "ok": true,
              "headers": [
                [
                  "content-type",
                  "application/javascript"
                ]
              ],
              "status": 200,
              "status_text": "OK"
            }
          },
          "base_uri": "https://localhost:8080/",
          "height": 100
        }
      },
      "cell_type": "code",
      "source": [
        "from google.colab import files\n",
        "\n",
        "#retrieve uploaded file\n",
        "uploaded = files.upload()\n",
        "\n",
        "#print results\n",
        "for fn in uploaded.keys():\n",
        "  print('User uploaded file \"{name}\" with length {length} bytes'.format(\n",
        "      name=fn, length=len(uploaded[fn])))\n",
        "  \n",
        "# Then move kaggle.json into the folder where the API expects to find it.\n",
        "!mkdir -p ~/.kaggle/ && mv kaggle.json ~/.kaggle/ && chmod 600 ~/.kaggle/kaggle.json"
      ],
      "execution_count": 0,
      "outputs": [
        {
          "output_type": "display_data",
          "data": {
            "text/html": [
              "\n",
              "     <input type=\"file\" id=\"files-a8a27e6d-15b9-413f-bd15-f3b95e1c505c\" name=\"files[]\" multiple disabled />\n",
              "     <output id=\"result-a8a27e6d-15b9-413f-bd15-f3b95e1c505c\">\n",
              "      Upload widget is only available when the cell has been executed in the\n",
              "      current browser session. Please rerun this cell to enable.\n",
              "      </output>\n",
              "      <script src=\"/nbextensions/google.colab/files.js\"></script> "
            ],
            "text/plain": [
              "<IPython.core.display.HTML object>"
            ]
          },
          "metadata": {
            "tags": []
          }
        },
        {
          "output_type": "stream",
          "text": [
            "Saving kaggle.json to kaggle.json\n",
            "User uploaded file \"kaggle.json\" with length 68 bytes\n"
          ],
          "name": "stdout"
        }
      ]
    },
    {
      "metadata": {
        "id": "ROr5IXFEoKdV",
        "colab_type": "code",
        "outputId": "1808e021-02fa-4678-bd25-fb994cc8c94d",
        "colab": {
          "base_uri": "https://localhost:8080/",
          "height": 225
        }
      },
      "cell_type": "code",
      "source": [
        "!kaggle competitions download -c career-con-2019"
      ],
      "execution_count": 0,
      "outputs": [
        {
          "output_type": "stream",
          "text": [
            "Downloading X_train.csv.zip to /content\n",
            " 82% 14.0M/17.1M [00:00<00:00, 27.3MB/s]\n",
            "100% 17.1M/17.1M [00:00<00:00, 43.3MB/s]\n",
            "Downloading y_train.csv to /content\n",
            "  0% 0.00/64.1k [00:00<?, ?B/s]\n",
            "100% 64.1k/64.1k [00:00<00:00, 19.9MB/s]\n",
            "Downloading sample_submission.csv to /content\n",
            "  0% 0.00/51.1k [00:00<?, ?B/s]\n",
            "100% 51.1k/51.1k [00:00<00:00, 44.3MB/s]\n",
            "Downloading X_test.csv.zip to /content\n",
            " 52% 9.00M/17.2M [00:00<00:00, 25.6MB/s]\n",
            "100% 17.2M/17.2M [00:00<00:00, 43.3MB/s]\n"
          ],
          "name": "stdout"
        }
      ]
    },
    {
      "metadata": {
        "id": "gRUCi4oGWxRh",
        "colab_type": "code",
        "outputId": "ac668ca6-9d59-4d78-8200-d4de187889e4",
        "colab": {
          "base_uri": "https://localhost:8080/",
          "height": 86
        }
      },
      "cell_type": "code",
      "source": [
        "!unzip X_train.csv.zip\n",
        "!unzip X_test.csv.zip"
      ],
      "execution_count": 0,
      "outputs": [
        {
          "output_type": "stream",
          "text": [
            "Archive:  X_train.csv.zip\n",
            "  inflating: X_train.csv             \n",
            "Archive:  X_test.csv.zip\n",
            "  inflating: X_test.csv              \n"
          ],
          "name": "stdout"
        }
      ]
    },
    {
      "metadata": {
        "id": "z4_lCKS4oTNW",
        "colab_type": "code",
        "colab": {}
      },
      "cell_type": "code",
      "source": [
        "import numpy as np\n",
        "import pandas as pd\n",
        "import math"
      ],
      "execution_count": 0,
      "outputs": []
    },
    {
      "metadata": {
        "id": "3CPli1tOpDrw",
        "colab_type": "code",
        "colab": {}
      },
      "cell_type": "code",
      "source": [
        "x_train = pd.read_csv(\"X_train.csv\")\n",
        "y_train = pd.read_csv(\"y_train.csv\")\n",
        "X_test = pd.read_csv(\"X_test.csv\")"
      ],
      "execution_count": 0,
      "outputs": []
    },
    {
      "metadata": {
        "id": "VzqEuGE6s072",
        "colab_type": "code",
        "colab": {}
      },
      "cell_type": "code",
      "source": [
        "def quaternion_to_euler(x, y, z, w):\n",
        "    import math\n",
        "    t0 = +2.0 * (w * x + y * z)\n",
        "    t1 = +1.0 - 2.0 * (x * x + y * y)\n",
        "    X = math.atan2(t0, t1)\n",
        "\n",
        "    t2 = +2.0 * (w * y - z * x)\n",
        "    t2 = +1.0 if t2 > +1.0 else t2\n",
        "    t2 = -1.0 if t2 < -1.0 else t2\n",
        "    Y = math.asin(t2)\n",
        "\n",
        "    t3 = +2.0 * (w * z + x * y)\n",
        "    t4 = +1.0 - 2.0 * (y * y + z * z)\n",
        "    Z = math.atan2(t3, t4)\n",
        "    return X,Y,Z"
      ],
      "execution_count": 0,
      "outputs": []
    },
    {
      "metadata": {
        "id": "ofbUTFtS_NmN",
        "colab_type": "code",
        "colab": {}
      },
      "cell_type": "code",
      "source": [
        "def feature_extraction(raw_frame):\n",
        "    frame = pd.DataFrame()\n",
        "    raw_frame['orientation'] = raw_frame['orientation_X'] + raw_frame['orientation_Y'] + raw_frame['orientation_Z']+ raw_frame['orientation_W']\n",
        "    \n",
        "    Ex, Ey, Ez = [], [], []\n",
        "    x, y, z, w = raw_frame['orientation_X'].tolist(), raw_frame['orientation_Y'].tolist(), raw_frame['orientation_Z'].tolist(), raw_frame['orientation_W'].tolist()\n",
        "    for i in range(len(x)):\n",
        "        ex, ey, ez = quaternion_to_euler(x[i],y[i],z[i],w[i])\n",
        "        Ex.append(ex)\n",
        "        Ey.append(ey)\n",
        "        Ez.append(ez)\n",
        "    # raw_frame['eulerX'] = Ex\n",
        "    # raw_frame['eulerY'] = Ey\n",
        "    # raw_frame['eulerZ'] = Ez\n",
        "    \n",
        "    raw_frame['orientation_1'] = (raw_frame['orientation_X']**2 + raw_frame['orientation_Y']**2 + raw_frame['orientation_Z']**2 + raw_frame['orientation_W']**2)**0.5\n",
        "    raw_frame['angular_velocity'] = raw_frame['angular_velocity_X'] + raw_frame['angular_velocity_Y'] + raw_frame['angular_velocity_Z']\n",
        "    raw_frame['linear_acceleration'] = raw_frame['linear_acceleration_X']**2 + raw_frame['linear_acceleration_Y']**2 + raw_frame['linear_acceleration_Y']**2\n",
        "    raw_frame['velocity_to_acceleration'] = raw_frame['angular_velocity'] / raw_frame['linear_acceleration']\n",
        "    raw_frame['velocity_linear_acceleration'] = raw_frame['linear_acceleration'] * raw_frame['angular_velocity']\n",
        "\n",
        "    for col in raw_frame.columns[3:]:\n",
        "        frame[col + '_mean'] = raw_frame.groupby(['series_id'])[col].mean()\n",
        "        frame[col + '_std'] = raw_frame.groupby(['series_id'])[col].std()\n",
        "        frame[col + '_max'] = raw_frame.groupby(['series_id'])[col].max()\n",
        "        frame[col + '_min'] = raw_frame.groupby(['series_id'])[col].min()\n",
        "        frame[col + '_max_to_min'] = frame[col + '_max'] / frame[col + '_min']\n",
        "        frame[col + '_mean_abs_change'] = raw_frame.groupby('series_id')[col].apply(lambda x: np.mean(np.abs(np.diff(x))))\n",
        "        frame[col + '_abs_max'] = raw_frame.groupby('series_id')[col].apply(lambda x: np.max(np.abs(x)))\n",
        "    return frame"
      ],
      "execution_count": 0,
      "outputs": []
    },
    {
      "metadata": {
        "id": "h-216_su_X1D",
        "colab_type": "code",
        "colab": {}
      },
      "cell_type": "code",
      "source": [
        "trainm = feature_extraction(x_train)"
      ],
      "execution_count": 0,
      "outputs": []
    },
    {
      "metadata": {
        "id": "PuSjnkWkF-jI",
        "colab_type": "code",
        "outputId": "7afe7096-f819-4f47-9858-5f58997b264b",
        "colab": {
          "base_uri": "https://localhost:8080/",
          "height": 34
        }
      },
      "cell_type": "code",
      "source": [
        "trainm.shape"
      ],
      "execution_count": 0,
      "outputs": [
        {
          "output_type": "execute_result",
          "data": {
            "text/plain": [
              "(3810, 112)"
            ]
          },
          "metadata": {
            "tags": []
          },
          "execution_count": 9
        }
      ]
    },
    {
      "metadata": {
        "id": "yndbIg5QBIxE",
        "colab_type": "code",
        "colab": {}
      },
      "cell_type": "code",
      "source": [
        "testm = feature_extraction(X_test)"
      ],
      "execution_count": 0,
      "outputs": []
    },
    {
      "metadata": {
        "id": "6eZHxkCgBJ_G",
        "colab_type": "code",
        "colab": {}
      },
      "cell_type": "code",
      "source": [
        "label=pd.read_csv(\"y_train.csv\")\n",
        "label=label[\"surface\"]"
      ],
      "execution_count": 0,
      "outputs": []
    },
    {
      "metadata": {
        "id": "P8K9DBYkBsJg",
        "colab_type": "code",
        "colab": {}
      },
      "cell_type": "code",
      "source": [
        "from sklearn import preprocessing\n",
        "from sklearn.preprocessing import StandardScaler\n",
        "from sklearn import metrics\n",
        "from sklearn.model_selection import train_test_split\n",
        "from sklearn.linear_model import LogisticRegression\n",
        "label_encoder = preprocessing.LabelEncoder()\n",
        "label_encoder.fit(label)\n",
        "label=label_encoder.transform(label)"
      ],
      "execution_count": 0,
      "outputs": []
    },
    {
      "metadata": {
        "id": "EN5SwinvW7u4",
        "colab_type": "code",
        "colab": {}
      },
      "cell_type": "code",
      "source": [
        "import matplotlib.pyplot as plt \n",
        "import xgboost as xgb\n",
        "from sklearn.model_selection import train_test_split\n",
        "from sklearn.metrics import confusion_matrix, roc_curve, roc_auc_score, f1_score, precision_recall_curve\n",
        "from sklearn.model_selection import learning_curve, GridSearchCV\n",
        "from sklearn.neighbors import KNeighborsClassifier\n",
        "from sklearn.ensemble import VotingClassifier"
      ],
      "execution_count": 0,
      "outputs": []
    },
    {
      "metadata": {
        "id": "GgZKWCdMBy1b",
        "colab_type": "code",
        "colab": {}
      },
      "cell_type": "code",
      "source": [
        "Y_train = label\n",
        "X_train = trainm\n",
        "test = testm\n",
        "X_train.shape, Y_train.shape\n",
        "scaler = StandardScaler()\n",
        "scaler.fit(X_train)\n",
        "# Apply transform to both the training set and the test set.\n",
        "train_img = scaler.transform(X_train)\n",
        "test_img = scaler.transform(test)"
      ],
      "execution_count": 0,
      "outputs": []
    },
    {
      "metadata": {
        "id": "HNHvAPSXleQv",
        "colab_type": "code",
        "colab": {}
      },
      "cell_type": "code",
      "source": [
        "from sklearn.ensemble import AdaBoostClassifier\n",
        "from sklearn.svm import SVC\n",
        "from sklearn import metrics\n",
        "from sklearn.tree import DecisionTreeClassifier\n",
        "from sklearn.neural_network import MLPClassifier"
      ],
      "execution_count": 0,
      "outputs": []
    },
    {
      "metadata": {
        "id": "1aogjdV2G6OG",
        "colab_type": "code",
        "colab": {}
      },
      "cell_type": "code",
      "source": [
        "clf1 = DecisionTreeClassifier(max_depth=10)\n",
        "clf2 = KNeighborsClassifier(n_neighbors=10)\n",
        "clf3 = SVC(gamma='scale', kernel='rbf', probability=True)\n",
        "clf4 = xgb.XGBClassifier(\n",
        " learning_rate = 0.03,\n",
        " n_estimators= 100,\n",
        " max_depth= 150,\n",
        " min_child_weight= 2,\n",
        " gamma=0.9,                        \n",
        " subsample=0.8,\n",
        " colsample_bytree=0.8,\n",
        " objective= 'binary:logistic',\n",
        " nthread= -1,\n",
        " scale_pos_weight=1)\n",
        "clf5 = AdaBoostClassifier(n_estimators=600,learning_rate=1)\n",
        "eclf = VotingClassifier(estimators=[('dt', clf1), ('knn', clf2), ('svc', clf3), ('xgb', clf4), ('ada', clf5)], voting='soft', weights=[2, 2, 2, 1, 1])\n",
        "\n",
        "clf1 = clf1.fit(X_train, Y_train)\n",
        "clf2 = clf2.fit(X_train, Y_train)\n",
        "clf3 = clf3.fit(X_train, Y_train)\n",
        "clf4 = clf4.fit(X_train, Y_train)\n",
        "clf5 = clf5.fit(X_train, Y_train)\n",
        "eclf = eclf.fit(X_train, Y_train)\n",
        "weighted_preds = eclf.predict(test)"
      ],
      "execution_count": 0,
      "outputs": []
    },
    {
      "metadata": {
        "id": "iDfOMPC_Iij6",
        "colab_type": "code",
        "outputId": "a879f89a-d610-48e6-d142-30852a5fcd3e",
        "colab": {
          "base_uri": "https://localhost:8080/",
          "height": 34
        }
      },
      "cell_type": "code",
      "source": [
        "weighted_preds"
      ],
      "execution_count": 0,
      "outputs": [
        {
          "output_type": "execute_result",
          "data": {
            "text/plain": [
              "array([4, 0, 7, ..., 1, 1, 8])"
            ]
          },
          "metadata": {
            "tags": []
          },
          "execution_count": 24
        }
      ]
    },
    {
      "metadata": {
        "id": "qjEw8Ieov_sl",
        "colab_type": "code",
        "colab": {}
      },
      "cell_type": "code",
      "source": [
        "base = xgb.XGBClassifier(learning_rate = 0.03,n_estimators= 100,max_depth= 150,min_child_weight= 2,gamma=0.9,\n",
        "                         subsample=0.8,colsample_bytree=0.8,objective= 'binary:logistic',nthread= -1,scale_pos_weight=1)\n",
        "\n",
        "ada = AdaBoostClassifier(n_estimators=600,learning_rate=1)\n",
        "\n",
        "model_ada = ada.fit(X_train, Y_train)\n",
        "\n",
        "pred_ada = model_ada.predict(test)"
      ],
      "execution_count": 0,
      "outputs": []
    },
    {
      "metadata": {
        "id": "YtwrOD6UIm5B",
        "colab_type": "code",
        "outputId": "5102a8f1-de02-4aa0-cee7-bfb42b6a3974",
        "colab": {
          "base_uri": "https://localhost:8080/",
          "height": 34
        }
      },
      "cell_type": "code",
      "source": [
        "pred_ada"
      ],
      "execution_count": 0,
      "outputs": [
        {
          "output_type": "execute_result",
          "data": {
            "text/plain": [
              "array([4, 5, 1, ..., 1, 1, 8])"
            ]
          },
          "metadata": {
            "tags": []
          },
          "execution_count": 34
        }
      ]
    },
    {
      "metadata": {
        "id": "q_4QvVzpXQ59",
        "colab_type": "code",
        "colab": {}
      },
      "cell_type": "code",
      "source": [
        "gbm = xgb.XGBClassifier(\n",
        " learning_rate = 0.03,\n",
        " n_estimators= 100,\n",
        " max_depth= 150,\n",
        " min_child_weight= 2,\n",
        " gamma=0.9,                        \n",
        " subsample=0.8,\n",
        " colsample_bytree=0.8,\n",
        " objective= 'binary:logistic',\n",
        " nthread= -1,\n",
        " scale_pos_weight=1).fit(X_train, Y_train)\n",
        "pred_xgb = gbm.predict(test)"
      ],
      "execution_count": 0,
      "outputs": []
    },
    {
      "metadata": {
        "id": "_-ECqAnQFkaw",
        "colab_type": "code",
        "outputId": "8d955d0c-410f-457b-ae5f-407aad9ede82",
        "colab": {
          "base_uri": "https://localhost:8080/",
          "height": 34
        }
      },
      "cell_type": "code",
      "source": [
        "pred_xgb"
      ],
      "execution_count": 0,
      "outputs": [
        {
          "output_type": "execute_result",
          "data": {
            "text/plain": [
              "array([4, 0, 7, ..., 1, 1, 8])"
            ]
          },
          "metadata": {
            "tags": []
          },
          "execution_count": 36
        }
      ]
    },
    {
      "metadata": {
        "id": "NZm4gB1kNLuB",
        "colab_type": "code",
        "outputId": "33165a7b-8dc1-41f1-a222-ea361d5b629d",
        "colab": {
          "base_uri": "https://localhost:8080/",
          "height": 2205
        }
      },
      "cell_type": "code",
      "source": [
        "import lightgbm\n",
        "para={'boosting_type': 'gbdt',\n",
        " 'colsample_bytree': 0.85,\n",
        " 'learning_rate': 0.1,\n",
        " 'max_bin': 512,\n",
        " 'max_depth': -1,\n",
        " 'metric': 'multi_error',\n",
        " 'min_child_samples': 8,\n",
        " 'min_child_weight': 1,\n",
        " 'min_split_gain': 0.5,\n",
        " 'nthread': 3,\n",
        " 'num_class': 9,\n",
        " 'num_leaves': 31,\n",
        " 'objective': 'multiclass',\n",
        " 'reg_alpha': 0.8,\n",
        " 'reg_lambda': 1.2,\n",
        " 'scale_pos_weight': 1,\n",
        " 'subsample': 0.7,\n",
        " 'subsample_for_bin': 200,\n",
        " 'subsample_freq': 1}\n",
        "from sklearn.model_selection import GridSearchCV,StratifiedKFold, train_test_split\n",
        "kfold = StratifiedKFold(n_splits=5)\n",
        "train_x,val_x,train_y,val_y = train_test_split(X_train, Y_train, test_size = 0.10, random_state=14)\n",
        "gbm = xgb.XGBClassifier(learning_rate = 0.03,n_estimators= 100,max_depth= 150,min_child_weight= 2,gamma=0.9,subsample=0.8,\n",
        "                        colsample_bytree=0.8,objective= 'binary:logistic',nthread= -1,scale_pos_weight=1)\n",
        "for i in range(73):\n",
        "    index = []\n",
        "    for j in range(len(y_train)):\n",
        "        if y_train.iloc[j]['group_id']==i:\n",
        "            index.append(j)\n",
        "    x_data = X_train.iloc[index]\n",
        "    y_data = Y_train.iloc[index]\n",
        "    gbm.fit(x_data, y_data)\n",
        "#     model = lightgbm.train(para,train_data,valid_sets=test_data,num_boost_round=5000,early_stopping_rounds=70)\n",
        "    #pred_lgbm = model.predict(test)\n",
        "    #pred_lgbm = pd.DataFrame(pred_lgbm).idxmax(axis=1)"
      ],
      "execution_count": 0,
      "outputs": [
        {
          "output_type": "stream",
          "text": [
            "[1]\tvalid_0's multi_error: 0.60105\n",
            "Training until validation scores don't improve for 70 rounds.\n",
            "[2]\tvalid_0's multi_error: 0.404199\n",
            "[3]\tvalid_0's multi_error: 0.307087\n",
            "[4]\tvalid_0's multi_error: 0.251969\n",
            "[5]\tvalid_0's multi_error: 0.212598\n",
            "[6]\tvalid_0's multi_error: 0.212598\n",
            "[7]\tvalid_0's multi_error: 0.19685\n",
            "[8]\tvalid_0's multi_error: 0.19685\n",
            "[9]\tvalid_0's multi_error: 0.186352\n",
            "[10]\tvalid_0's multi_error: 0.175853\n",
            "[11]\tvalid_0's multi_error: 0.175853\n",
            "[12]\tvalid_0's multi_error: 0.173228\n",
            "[13]\tvalid_0's multi_error: 0.167979\n",
            "[14]\tvalid_0's multi_error: 0.173228\n",
            "[15]\tvalid_0's multi_error: 0.165354\n",
            "[16]\tvalid_0's multi_error: 0.15748\n",
            "[17]\tvalid_0's multi_error: 0.154856\n",
            "[18]\tvalid_0's multi_error: 0.15748\n",
            "[19]\tvalid_0's multi_error: 0.146982\n",
            "[20]\tvalid_0's multi_error: 0.144357\n",
            "[21]\tvalid_0's multi_error: 0.141732\n",
            "[22]\tvalid_0's multi_error: 0.128609\n",
            "[23]\tvalid_0's multi_error: 0.141732\n",
            "[24]\tvalid_0's multi_error: 0.141732\n",
            "[25]\tvalid_0's multi_error: 0.139108\n",
            "[26]\tvalid_0's multi_error: 0.133858\n",
            "[27]\tvalid_0's multi_error: 0.128609\n",
            "[28]\tvalid_0's multi_error: 0.12336\n",
            "[29]\tvalid_0's multi_error: 0.125984\n",
            "[30]\tvalid_0's multi_error: 0.125984\n",
            "[31]\tvalid_0's multi_error: 0.12336\n",
            "[32]\tvalid_0's multi_error: 0.12336\n",
            "[33]\tvalid_0's multi_error: 0.11811\n",
            "[34]\tvalid_0's multi_error: 0.120735\n",
            "[35]\tvalid_0's multi_error: 0.11811\n",
            "[36]\tvalid_0's multi_error: 0.12336\n",
            "[37]\tvalid_0's multi_error: 0.12336\n",
            "[38]\tvalid_0's multi_error: 0.120735\n",
            "[39]\tvalid_0's multi_error: 0.115486\n",
            "[40]\tvalid_0's multi_error: 0.115486\n",
            "[41]\tvalid_0's multi_error: 0.112861\n",
            "[42]\tvalid_0's multi_error: 0.112861\n",
            "[43]\tvalid_0's multi_error: 0.112861\n",
            "[44]\tvalid_0's multi_error: 0.112861\n",
            "[45]\tvalid_0's multi_error: 0.110236\n",
            "[46]\tvalid_0's multi_error: 0.112861\n",
            "[47]\tvalid_0's multi_error: 0.112861\n",
            "[48]\tvalid_0's multi_error: 0.112861\n",
            "[49]\tvalid_0's multi_error: 0.112861\n",
            "[50]\tvalid_0's multi_error: 0.110236\n",
            "[51]\tvalid_0's multi_error: 0.107612\n",
            "[52]\tvalid_0's multi_error: 0.110236\n",
            "[53]\tvalid_0's multi_error: 0.104987\n",
            "[54]\tvalid_0's multi_error: 0.104987\n",
            "[55]\tvalid_0's multi_error: 0.104987\n",
            "[56]\tvalid_0's multi_error: 0.104987\n",
            "[57]\tvalid_0's multi_error: 0.104987\n",
            "[58]\tvalid_0's multi_error: 0.107612\n",
            "[59]\tvalid_0's multi_error: 0.107612\n",
            "[60]\tvalid_0's multi_error: 0.107612\n",
            "[61]\tvalid_0's multi_error: 0.107612\n",
            "[62]\tvalid_0's multi_error: 0.107612\n",
            "[63]\tvalid_0's multi_error: 0.107612\n",
            "[64]\tvalid_0's multi_error: 0.107612\n",
            "[65]\tvalid_0's multi_error: 0.107612\n",
            "[66]\tvalid_0's multi_error: 0.107612\n",
            "[67]\tvalid_0's multi_error: 0.107612\n",
            "[68]\tvalid_0's multi_error: 0.107612\n",
            "[69]\tvalid_0's multi_error: 0.107612\n",
            "[70]\tvalid_0's multi_error: 0.107612\n",
            "[71]\tvalid_0's multi_error: 0.107612\n",
            "[72]\tvalid_0's multi_error: 0.107612\n",
            "[73]\tvalid_0's multi_error: 0.107612\n",
            "[74]\tvalid_0's multi_error: 0.107612\n",
            "[75]\tvalid_0's multi_error: 0.107612\n",
            "[76]\tvalid_0's multi_error: 0.107612\n",
            "[77]\tvalid_0's multi_error: 0.104987\n",
            "[78]\tvalid_0's multi_error: 0.107612\n",
            "[79]\tvalid_0's multi_error: 0.104987\n",
            "[80]\tvalid_0's multi_error: 0.107612\n",
            "[81]\tvalid_0's multi_error: 0.107612\n",
            "[82]\tvalid_0's multi_error: 0.107612\n",
            "[83]\tvalid_0's multi_error: 0.107612\n",
            "[84]\tvalid_0's multi_error: 0.107612\n",
            "[85]\tvalid_0's multi_error: 0.107612\n",
            "[86]\tvalid_0's multi_error: 0.107612\n",
            "[87]\tvalid_0's multi_error: 0.107612\n",
            "[88]\tvalid_0's multi_error: 0.107612\n",
            "[89]\tvalid_0's multi_error: 0.107612\n",
            "[90]\tvalid_0's multi_error: 0.107612\n",
            "[91]\tvalid_0's multi_error: 0.107612\n",
            "[92]\tvalid_0's multi_error: 0.107612\n",
            "[93]\tvalid_0's multi_error: 0.107612\n",
            "[94]\tvalid_0's multi_error: 0.107612\n",
            "[95]\tvalid_0's multi_error: 0.107612\n",
            "[96]\tvalid_0's multi_error: 0.107612\n",
            "[97]\tvalid_0's multi_error: 0.107612\n",
            "[98]\tvalid_0's multi_error: 0.107612\n",
            "[99]\tvalid_0's multi_error: 0.107612\n",
            "[100]\tvalid_0's multi_error: 0.107612\n",
            "[101]\tvalid_0's multi_error: 0.107612\n",
            "[102]\tvalid_0's multi_error: 0.107612\n",
            "[103]\tvalid_0's multi_error: 0.107612\n",
            "[104]\tvalid_0's multi_error: 0.107612\n",
            "[105]\tvalid_0's multi_error: 0.107612\n",
            "[106]\tvalid_0's multi_error: 0.107612\n",
            "[107]\tvalid_0's multi_error: 0.107612\n",
            "[108]\tvalid_0's multi_error: 0.107612\n",
            "[109]\tvalid_0's multi_error: 0.107612\n",
            "[110]\tvalid_0's multi_error: 0.107612\n",
            "[111]\tvalid_0's multi_error: 0.107612\n",
            "[112]\tvalid_0's multi_error: 0.107612\n",
            "[113]\tvalid_0's multi_error: 0.107612\n",
            "[114]\tvalid_0's multi_error: 0.107612\n",
            "[115]\tvalid_0's multi_error: 0.107612\n",
            "[116]\tvalid_0's multi_error: 0.107612\n",
            "[117]\tvalid_0's multi_error: 0.110236\n",
            "[118]\tvalid_0's multi_error: 0.107612\n",
            "[119]\tvalid_0's multi_error: 0.107612\n",
            "[120]\tvalid_0's multi_error: 0.107612\n",
            "[121]\tvalid_0's multi_error: 0.107612\n",
            "[122]\tvalid_0's multi_error: 0.107612\n",
            "[123]\tvalid_0's multi_error: 0.110236\n",
            "Early stopping, best iteration is:\n",
            "[53]\tvalid_0's multi_error: 0.104987\n"
          ],
          "name": "stdout"
        }
      ]
    },
    {
      "metadata": {
        "id": "KQO88iT8k6xw",
        "colab_type": "code",
        "outputId": "0abf0e7c-b5f4-45e0-c0f7-66d1d3e76744",
        "colab": {
          "base_uri": "https://localhost:8080/",
          "height": 34
        }
      },
      "cell_type": "code",
      "source": [
        "pred_lgbm.shape"
      ],
      "execution_count": 0,
      "outputs": [
        {
          "output_type": "execute_result",
          "data": {
            "text/plain": [
              "(3816,)"
            ]
          },
          "metadata": {
            "tags": []
          },
          "execution_count": 47
        }
      ]
    },
    {
      "metadata": {
        "id": "ERKr7XHIlPzF",
        "colab_type": "code",
        "outputId": "11558a63-2b79-442e-9e89-10dcbbe8b4a8",
        "colab": {
          "base_uri": "https://localhost:8080/",
          "height": 34
        }
      },
      "cell_type": "code",
      "source": [
        "preds = (pred_ada + pred_xgb + pred_lgbm)/3\n",
        "preds.shape"
      ],
      "execution_count": 0,
      "outputs": [
        {
          "output_type": "execute_result",
          "data": {
            "text/plain": [
              "(3816,)"
            ]
          },
          "metadata": {
            "tags": []
          },
          "execution_count": 52
        }
      ]
    },
    {
      "metadata": {
        "id": "NRjo_EX0ll1Y",
        "colab_type": "code",
        "colab": {}
      },
      "cell_type": "code",
      "source": [
        "p = []\n",
        "for i in range(len(preds)):\n",
        "    p.append(int(math.floor(preds[i])))"
      ],
      "execution_count": 0,
      "outputs": []
    },
    {
      "metadata": {
        "id": "sqqkHV5_CoI6",
        "colab_type": "code",
        "colab": {}
      },
      "cell_type": "code",
      "source": [
        "class_prediction=pd.DataFrame(preds).idxmax(axis=1) "
      ],
      "execution_count": 0,
      "outputs": []
    },
    {
      "metadata": {
        "id": "pspik4-2rwSJ",
        "colab_type": "code",
        "colab": {}
      },
      "cell_type": "code",
      "source": [
        "from sklearn.tree import DecisionTreeClassifier\n",
        "dtree = DecisionTreeClassifier(max_depth = 10, random_state = 1)\n",
        "abc = AdaBoostClassifier(base_estimator=dtree, n_estimators=600, learning_rate=1)\n",
        "model_ada1 = abc.fit(X_train, Y_train)\n",
        "pred_newada = model_ada1.predict(test)"
      ],
      "execution_count": 0,
      "outputs": []
    },
    {
      "metadata": {
        "id": "Yg25HERzvZgD",
        "colab_type": "code",
        "colab": {}
      },
      "cell_type": "code",
      "source": [
        "dtree = DecisionTreeClassifier(max_depth = 20, random_state = 1)\n",
        "abc = AdaBoostClassifier(base_estimator=dtree, n_estimators=600, learning_rate=1)\n",
        "model1 = AdaBoostClassifier(base_estimator=abc, n_estimators=600, learning_rate=2)\n",
        "model2 = AdaBoostClassifier(base_estimator=model1, n_estimators=1000, learning_rate=5)\n",
        "model_ada1 = model2.fit(X_train, Y_train)\n",
        "pred_2ada = model_ada1.predict(test)"
      ],
      "execution_count": 0,
      "outputs": []
    },
    {
      "metadata": {
        "id": "IB1_2NH1uZzJ",
        "colab_type": "code",
        "outputId": "44ef8906-253a-4583-8321-2fb5c3865936",
        "colab": {
          "base_uri": "https://localhost:8080/",
          "height": 34
        }
      },
      "cell_type": "code",
      "source": [
        "pred_2ada"
      ],
      "execution_count": 0,
      "outputs": [
        {
          "output_type": "execute_result",
          "data": {
            "text/plain": [
              "array([4, 1, 7, ..., 1, 1, 8])"
            ]
          },
          "metadata": {
            "tags": []
          },
          "execution_count": 86
        }
      ]
    },
    {
      "metadata": {
        "id": "KwYKIvKJxJb5",
        "colab_type": "code",
        "outputId": "a72c7d9f-7b30-47b5-81e0-3104d1ed965e",
        "colab": {
          "base_uri": "https://localhost:8080/",
          "height": 191
        }
      },
      "cell_type": "code",
      "source": [
        "submission1 = pd.DataFrame({\n",
        "        \"series_id\": testm.index,\n",
        "        \"surface\": weighted_preds,\n",
        "        \n",
        "    })\n",
        "submission1.surface.value_counts()"
      ],
      "execution_count": 0,
      "outputs": [
        {
          "output_type": "execute_result",
          "data": {
            "text/plain": [
              "1    988\n",
              "5    750\n",
              "8    593\n",
              "6    457\n",
              "7    376\n",
              "4    319\n",
              "2    185\n",
              "0    146\n",
              "3      2\n",
              "Name: surface, dtype: int64"
            ]
          },
          "metadata": {
            "tags": []
          },
          "execution_count": 25
        }
      ]
    },
    {
      "metadata": {
        "id": "DZj-ViWrEdqb",
        "colab_type": "code",
        "outputId": "67893eb4-5006-471f-8f2e-050f0fe35b75",
        "colab": {
          "base_uri": "https://localhost:8080/",
          "height": 173
        }
      },
      "cell_type": "code",
      "source": [
        "submission1 = pd.DataFrame({\n",
        "        \"series_id\": testm.index,\n",
        "        \"surface\": pred_newada,\n",
        "        \n",
        "    })\n",
        "submission1.surface.value_counts()"
      ],
      "execution_count": 0,
      "outputs": [
        {
          "output_type": "execute_result",
          "data": {
            "text/plain": [
              "1    1021\n",
              "5     803\n",
              "8     729\n",
              "7     390\n",
              "6     373\n",
              "2     211\n",
              "4     193\n",
              "0      96\n",
              "Name: surface, dtype: int64"
            ]
          },
          "metadata": {
            "tags": []
          },
          "execution_count": 73
        }
      ]
    },
    {
      "metadata": {
        "id": "bPIYeWHJC6mx",
        "colab_type": "code",
        "colab": {}
      },
      "cell_type": "code",
      "source": [
        "submission1.surface=label_encoder.inverse_transform(submission1.surface)\n"
      ],
      "execution_count": 0,
      "outputs": []
    },
    {
      "metadata": {
        "id": "kyPHebv-1djQ",
        "colab_type": "code",
        "outputId": "864e4f34-3228-4d0e-d5f3-7efaaf620c38",
        "colab": {
          "base_uri": "https://localhost:8080/",
          "height": 191
        }
      },
      "cell_type": "code",
      "source": [
        "submission1.surface.value_counts()"
      ],
      "execution_count": 0,
      "outputs": [
        {
          "output_type": "execute_result",
          "data": {
            "text/plain": [
              "concrete                  988\n",
              "soft_pvc                  750\n",
              "wood                      593\n",
              "soft_tiles                457\n",
              "tiled                     376\n",
              "hard_tiles_large_space    319\n",
              "fine_concrete             185\n",
              "carpet                    146\n",
              "hard_tiles                  2\n",
              "Name: surface, dtype: int64"
            ]
          },
          "metadata": {
            "tags": []
          },
          "execution_count": 27
        }
      ]
    },
    {
      "metadata": {
        "id": "5u_GIvEqDT18",
        "colab_type": "code",
        "colab": {}
      },
      "cell_type": "code",
      "source": [
        "submission1.to_csv('submission.csv', index=False)"
      ],
      "execution_count": 0,
      "outputs": []
    },
    {
      "metadata": {
        "id": "ljNPnne_yXxR",
        "colab_type": "code",
        "outputId": "5cc548a2-41c3-46e4-c49a-216e07642b8c",
        "colab": {
          "base_uri": "https://localhost:8080/",
          "height": 52
        }
      },
      "cell_type": "code",
      "source": [
        "!kaggle competitions submit -c career-con-2019 -f submission.csv -m \"Submission_voting\""
      ],
      "execution_count": 0,
      "outputs": [
        {
          "output_type": "stream",
          "text": [
            "100% 53.6k/53.6k [00:02<00:00, 24.1kB/s]\n",
            "Successfully submitted to CareerCon 2019 - Help Navigate Robots "
          ],
          "name": "stdout"
        }
      ]
    },
    {
      "metadata": {
        "id": "vEplRV8NPo0D",
        "colab_type": "code",
        "colab": {}
      },
      "cell_type": "code",
      "source": [
        ""
      ],
      "execution_count": 0,
      "outputs": []
    }
  ]
}