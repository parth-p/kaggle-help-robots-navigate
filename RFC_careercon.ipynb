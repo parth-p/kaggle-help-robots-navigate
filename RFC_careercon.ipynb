{
  "nbformat": 4,
  "nbformat_minor": 0,
  "metadata": {
    "colab": {
      "name": "Untitled4.ipynb",
      "version": "0.3.2",
      "provenance": []
    },
    "kernelspec": {
      "name": "python3",
      "display_name": "Python 3"
    }
  },
  "cells": [
    {
      "metadata": {
        "id": "9eCx5hmLHjRF",
        "colab_type": "code",
        "outputId": "2c4dc669-4c62-461d-c128-90ced4d98acb",
        "colab": {
          "resources": {
            "http://localhost:8080/nbextensions/google.colab/files.js": {
              "data": "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",
              "ok": true,
              "headers": [
                [
                  "content-type",
                  "application/javascript"
                ]
              ],
              "status": 200,
              "status_text": "OK"
            }
          },
          "base_uri": "https://localhost:8080/",
          "height": 100
        }
      },
      "cell_type": "code",
      "source": [
        "from google.colab import files\n",
        "\n",
        "#retrieve uploaded file\n",
        "uploaded = files.upload()\n",
        "\n",
        "#print results\n",
        "for fn in uploaded.keys():\n",
        "  print('User uploaded file \"{name}\" with length {length} bytes'.format(\n",
        "      name=fn, length=len(uploaded[fn])))\n",
        "  \n",
        "# Then move kaggle.json into the folder where the API expects to find it.\n",
        "!mkdir -p ~/.kaggle/ && mv kaggle.json ~/.kaggle/ && chmod 600 ~/.kaggle/kaggle.json"
      ],
      "execution_count": 1,
      "outputs": [
        {
          "output_type": "display_data",
          "data": {
            "text/html": [
              "\n",
              "     <input type=\"file\" id=\"files-cba6f238-9aca-45f9-92d7-0e7b1bdb0f69\" name=\"files[]\" multiple disabled />\n",
              "     <output id=\"result-cba6f238-9aca-45f9-92d7-0e7b1bdb0f69\">\n",
              "      Upload widget is only available when the cell has been executed in the\n",
              "      current browser session. Please rerun this cell to enable.\n",
              "      </output>\n",
              "      <script src=\"/nbextensions/google.colab/files.js\"></script> "
            ],
            "text/plain": [
              "<IPython.core.display.HTML object>"
            ]
          },
          "metadata": {
            "tags": []
          }
        },
        {
          "output_type": "stream",
          "text": [
            "Saving kaggle.json to kaggle.json\n",
            "User uploaded file \"kaggle.json\" with length 68 bytes\n"
          ],
          "name": "stdout"
        }
      ]
    },
    {
      "metadata": {
        "id": "8DZ2SyFzM2wc",
        "colab_type": "code",
        "outputId": "1710eb8e-8b0a-4dbf-edc1-8a35ae162cea",
        "colab": {
          "base_uri": "https://localhost:8080/",
          "height": 225
        }
      },
      "cell_type": "code",
      "source": [
        "!kaggle competitions download -c career-con-2019"
      ],
      "execution_count": 2,
      "outputs": [
        {
          "output_type": "stream",
          "text": [
            "Downloading X_train.csv.zip to /content\n",
            " 53% 9.00M/17.1M [00:00<00:00, 20.8MB/s]\n",
            "100% 17.1M/17.1M [00:00<00:00, 38.5MB/s]\n",
            "Downloading y_train.csv to /content\n",
            "  0% 0.00/64.1k [00:00<?, ?B/s]\n",
            "100% 64.1k/64.1k [00:00<00:00, 66.2MB/s]\n",
            "Downloading sample_submission.csv to /content\n",
            "  0% 0.00/51.1k [00:00<?, ?B/s]\n",
            "100% 51.1k/51.1k [00:00<00:00, 43.9MB/s]\n",
            "Downloading X_test.csv.zip to /content\n",
            " 52% 9.00M/17.2M [00:00<00:00, 24.4MB/s]\n",
            "100% 17.2M/17.2M [00:00<00:00, 38.7MB/s]\n"
          ],
          "name": "stdout"
        }
      ]
    },
    {
      "metadata": {
        "id": "5DqZuFW4M7pd",
        "colab_type": "code",
        "outputId": "c7df305d-f59b-46f5-99b0-86dde4edd6dc",
        "colab": {
          "base_uri": "https://localhost:8080/",
          "height": 86
        }
      },
      "cell_type": "code",
      "source": [
        "!unzip X_test.csv.zip\n",
        "!unzip X_train.csv.zip"
      ],
      "execution_count": 3,
      "outputs": [
        {
          "output_type": "stream",
          "text": [
            "Archive:  X_test.csv.zip\n",
            "  inflating: X_test.csv              \n",
            "Archive:  X_train.csv.zip\n",
            "  inflating: X_train.csv             \n"
          ],
          "name": "stdout"
        }
      ]
    },
    {
      "metadata": {
        "id": "9Z2pxU_jNFU3",
        "colab_type": "code",
        "colab": {}
      },
      "cell_type": "code",
      "source": [
        "import numpy as np\n",
        "import pandas as pd\n",
        "from seaborn import countplot, barplot\n",
        "import matplotlib.pyplot as plt\n",
        "\n",
        "from sklearn.preprocessing import LabelEncoder\n",
        "from sklearn.model_selection import KFold\n",
        "from sklearn.metrics import accuracy_score, confusion_matrix\n",
        "\n",
        "#from bayes_opt import BayesianOptimization\n",
        "import lightgbm as lgb\n",
        "import xgboost as xgb\n",
        "# import catboost as cb"
      ],
      "execution_count": 0,
      "outputs": []
    },
    {
      "metadata": {
        "id": "8uAz6ePbNIU7",
        "colab_type": "code",
        "colab": {}
      },
      "cell_type": "code",
      "source": [
        "x_train = pd.read_csv(\"X_train.csv\")\n",
        "y_train = pd.read_csv(\"y_train.csv\")\n",
        "X_test = pd.read_csv(\"X_test.csv\")"
      ],
      "execution_count": 0,
      "outputs": []
    },
    {
      "metadata": {
        "id": "h9tf7C58FcRC",
        "colab_type": "code",
        "outputId": "85a1d5ce-ac7c-4743-a2af-f808f8002e39",
        "colab": {
          "base_uri": "https://localhost:8080/",
          "height": 226
        }
      },
      "cell_type": "code",
      "source": [
        "x_train.head()"
      ],
      "execution_count": 0,
      "outputs": [
        {
          "output_type": "execute_result",
          "data": {
            "text/html": [
              "<div>\n",
              "<style scoped>\n",
              "    .dataframe tbody tr th:only-of-type {\n",
              "        vertical-align: middle;\n",
              "    }\n",
              "\n",
              "    .dataframe tbody tr th {\n",
              "        vertical-align: top;\n",
              "    }\n",
              "\n",
              "    .dataframe thead th {\n",
              "        text-align: right;\n",
              "    }\n",
              "</style>\n",
              "<table border=\"1\" class=\"dataframe\">\n",
              "  <thead>\n",
              "    <tr style=\"text-align: right;\">\n",
              "      <th></th>\n",
              "      <th>row_id</th>\n",
              "      <th>series_id</th>\n",
              "      <th>measurement_number</th>\n",
              "      <th>orientation_X</th>\n",
              "      <th>orientation_Y</th>\n",
              "      <th>orientation_Z</th>\n",
              "      <th>orientation_W</th>\n",
              "      <th>angular_velocity_X</th>\n",
              "      <th>angular_velocity_Y</th>\n",
              "      <th>angular_velocity_Z</th>\n",
              "      <th>linear_acceleration_X</th>\n",
              "      <th>linear_acceleration_Y</th>\n",
              "      <th>linear_acceleration_Z</th>\n",
              "    </tr>\n",
              "  </thead>\n",
              "  <tbody>\n",
              "    <tr>\n",
              "      <th>0</th>\n",
              "      <td>0_0</td>\n",
              "      <td>0</td>\n",
              "      <td>0</td>\n",
              "      <td>-0.75853</td>\n",
              "      <td>-0.63435</td>\n",
              "      <td>-0.10488</td>\n",
              "      <td>-0.10597</td>\n",
              "      <td>0.107650</td>\n",
              "      <td>0.017561</td>\n",
              "      <td>0.000767</td>\n",
              "      <td>-0.74857</td>\n",
              "      <td>2.1030</td>\n",
              "      <td>-9.7532</td>\n",
              "    </tr>\n",
              "    <tr>\n",
              "      <th>1</th>\n",
              "      <td>0_1</td>\n",
              "      <td>0</td>\n",
              "      <td>1</td>\n",
              "      <td>-0.75853</td>\n",
              "      <td>-0.63434</td>\n",
              "      <td>-0.10490</td>\n",
              "      <td>-0.10600</td>\n",
              "      <td>0.067851</td>\n",
              "      <td>0.029939</td>\n",
              "      <td>0.003385</td>\n",
              "      <td>0.33995</td>\n",
              "      <td>1.5064</td>\n",
              "      <td>-9.4128</td>\n",
              "    </tr>\n",
              "    <tr>\n",
              "      <th>2</th>\n",
              "      <td>0_2</td>\n",
              "      <td>0</td>\n",
              "      <td>2</td>\n",
              "      <td>-0.75853</td>\n",
              "      <td>-0.63435</td>\n",
              "      <td>-0.10492</td>\n",
              "      <td>-0.10597</td>\n",
              "      <td>0.007275</td>\n",
              "      <td>0.028934</td>\n",
              "      <td>-0.005978</td>\n",
              "      <td>-0.26429</td>\n",
              "      <td>1.5922</td>\n",
              "      <td>-8.7267</td>\n",
              "    </tr>\n",
              "    <tr>\n",
              "      <th>3</th>\n",
              "      <td>0_3</td>\n",
              "      <td>0</td>\n",
              "      <td>3</td>\n",
              "      <td>-0.75852</td>\n",
              "      <td>-0.63436</td>\n",
              "      <td>-0.10495</td>\n",
              "      <td>-0.10597</td>\n",
              "      <td>-0.013053</td>\n",
              "      <td>0.019448</td>\n",
              "      <td>-0.008974</td>\n",
              "      <td>0.42684</td>\n",
              "      <td>1.0993</td>\n",
              "      <td>-10.0960</td>\n",
              "    </tr>\n",
              "    <tr>\n",
              "      <th>4</th>\n",
              "      <td>0_4</td>\n",
              "      <td>0</td>\n",
              "      <td>4</td>\n",
              "      <td>-0.75852</td>\n",
              "      <td>-0.63435</td>\n",
              "      <td>-0.10495</td>\n",
              "      <td>-0.10596</td>\n",
              "      <td>0.005135</td>\n",
              "      <td>0.007652</td>\n",
              "      <td>0.005245</td>\n",
              "      <td>-0.50969</td>\n",
              "      <td>1.4689</td>\n",
              "      <td>-10.4410</td>\n",
              "    </tr>\n",
              "  </tbody>\n",
              "</table>\n",
              "</div>"
            ],
            "text/plain": [
              "  row_id  series_id  measurement_number  orientation_X  orientation_Y  \\\n",
              "0    0_0          0                   0       -0.75853       -0.63435   \n",
              "1    0_1          0                   1       -0.75853       -0.63434   \n",
              "2    0_2          0                   2       -0.75853       -0.63435   \n",
              "3    0_3          0                   3       -0.75852       -0.63436   \n",
              "4    0_4          0                   4       -0.75852       -0.63435   \n",
              "\n",
              "   orientation_Z  orientation_W  angular_velocity_X  angular_velocity_Y  \\\n",
              "0       -0.10488       -0.10597            0.107650            0.017561   \n",
              "1       -0.10490       -0.10600            0.067851            0.029939   \n",
              "2       -0.10492       -0.10597            0.007275            0.028934   \n",
              "3       -0.10495       -0.10597           -0.013053            0.019448   \n",
              "4       -0.10495       -0.10596            0.005135            0.007652   \n",
              "\n",
              "   angular_velocity_Z  linear_acceleration_X  linear_acceleration_Y  \\\n",
              "0            0.000767               -0.74857                 2.1030   \n",
              "1            0.003385                0.33995                 1.5064   \n",
              "2           -0.005978               -0.26429                 1.5922   \n",
              "3           -0.008974                0.42684                 1.0993   \n",
              "4            0.005245               -0.50969                 1.4689   \n",
              "\n",
              "   linear_acceleration_Z  \n",
              "0                -9.7532  \n",
              "1                -9.4128  \n",
              "2                -8.7267  \n",
              "3               -10.0960  \n",
              "4               -10.4410  "
            ]
          },
          "metadata": {
            "tags": []
          },
          "execution_count": 22
        }
      ]
    },
    {
      "metadata": {
        "id": "iSVhqNuQNJiF",
        "colab_type": "code",
        "colab": {}
      },
      "cell_type": "code",
      "source": [
        "def quaternion_to_euler(x, y, z, w):\n",
        "    import math\n",
        "    t0 = +2.0 * (w * x + y * z)\n",
        "    t1 = +1.0 - 2.0 * (x * x + y * y)\n",
        "    X = math.atan2(t0, t1)\n",
        "\n",
        "    t2 = +2.0 * (w * y - z * x)\n",
        "    t2 = +1.0 if t2 > +1.0 else t2\n",
        "    t2 = -1.0 if t2 < -1.0 else t2\n",
        "    Y = math.asin(t2)\n",
        "\n",
        "    t3 = +2.0 * (w * z + x * y)\n",
        "    t4 = +1.0 - 2.0 * (y * y + z * z)\n",
        "    Z = math.atan2(t3, t4)\n",
        "\n",
        "    return X, Y, Z"
      ],
      "execution_count": 0,
      "outputs": []
    },
    {
      "metadata": {
        "id": "rhJFGDCIN_dt",
        "colab_type": "code",
        "colab": {}
      },
      "cell_type": "code",
      "source": [
        "def feature_extraction(raw_frame):\n",
        "    frame = pd.DataFrame()\n",
        "    raw_frame['orientation'] = raw_frame['orientation_X'] + raw_frame['orientation_Y'] + raw_frame['orientation_Z']+ raw_frame['orientation_W']\n",
        "    raw_frame['orientation_xyz'] = (raw_frame['orientation_X']**2 + raw_frame['orientation_Y']**2 + raw_frame['orientation_Z']**2)**0.5\n",
        "    raw_frame['angular_velocity'] = (raw_frame['angular_velocity_X']**2 + raw_frame['angular_velocity_Y']**2 + raw_frame['angular_velocity_Z']**2)**0.5\n",
        "    raw_frame['linear_acceleration'] = (raw_frame['linear_acceleration_X']**2 + raw_frame['linear_acceleration_Y']**2 + raw_frame['linear_acceleration_Z']**2)**0.5\n",
        "    raw_frame['velocity_to_acceleration'] =  raw_frame['linear_acceleration'] / raw_frame['angular_velocity']\n",
        "    \n",
        "#     x, y, z, w = raw_frame['orientation_X'].tolist(), raw_frame['orientation_Y'].tolist(), raw_frame['orientation_Z'].tolist(), raw_frame['orientation_W'].tolist()\n",
        "#     nx, ny, nz = [], [], []\n",
        "#     for i in range(len(x)):\n",
        "#         xx, yy, zz = quaternion_to_euler(x[i], y[i], z[i], w[i])\n",
        "#         nx.append(xx)\n",
        "#         ny.append(yy)\n",
        "#         nz.append(zz)\n",
        "    \n",
        "#     raw_frame['euler_x'] = nx\n",
        "#     raw_frame['euler_y'] = ny\n",
        "#     raw_frame['euler_z'] = nz\n",
        "    \n",
        "#     raw_frame['total_angle'] = np.sqrt(np.square(raw_frame['euler_x']) + np.square(raw_frame['euler_y']) + np.square(raw_frame['euler_z']))\n",
        "    \n",
        "    # print(raw_frame.columns[3])\n",
        "    for col in raw_frame.columns[3:]:\n",
        "        frame[col + '_mean'] = raw_frame.groupby(['series_id'])[col].mean()\n",
        "        frame[col + '_median'] = raw_frame.groupby(['series_id'])[col].median()\n",
        "        frame[col + '_std'] = raw_frame.groupby(['series_id'])[col].std()\n",
        "        frame[col + '_max'] = raw_frame.groupby(['series_id'])[col].max()\n",
        "        frame[col + '_min'] = raw_frame.groupby(['series_id'])[col].min()\n",
        "        frame[col + '_max_to_min'] = frame[col + '_max'] / frame[col + '_min']\n",
        "        frame[col + '_mean_abs_change'] = raw_frame.groupby('series_id')[col].apply(lambda x: np.mean(np.abs(np.diff(x))))\n",
        "        frame[col + '_abs_max'] = raw_frame.groupby('series_id')[col].apply(lambda x: np.max(np.abs(x)))\n",
        "        frame[col + '_abs_min'] = raw_frame.groupby('series_id')[col].apply(lambda x: np.min(np.abs(x)))\n",
        "        # frame[col + '_abs_avg'] = (raw_frame[col + '_abs_min'] + raw_frame[col + '_abs_max'])/2\n",
        "    return frame"
      ],
      "execution_count": 0,
      "outputs": []
    },
    {
      "metadata": {
        "id": "l6p3c8CoQdc6",
        "colab_type": "code",
        "colab": {}
      },
      "cell_type": "code",
      "source": [
        "trainm = feature_extraction(x_train)\n",
        "testm = feature_extraction(X_test)"
      ],
      "execution_count": 0,
      "outputs": []
    },
    {
      "metadata": {
        "id": "vOFI0jvUTtAV",
        "colab_type": "code",
        "colab": {}
      },
      "cell_type": "code",
      "source": [
        "label=y_train\n",
        "label=label[\"surface\"]\n",
        "\n",
        "from sklearn import preprocessing\n",
        "from sklearn.preprocessing import StandardScaler\n",
        "from sklearn import metrics\n",
        "from sklearn.model_selection import train_test_split\n",
        "from sklearn.linear_model import LogisticRegression\n",
        "label_encoder = preprocessing.LabelEncoder()\n",
        "label_encoder.fit(label)\n",
        "label=label_encoder.transform(label)"
      ],
      "execution_count": 0,
      "outputs": []
    },
    {
      "metadata": {
        "id": "cUgLn5kcIa9u",
        "colab_type": "code",
        "colab": {}
      },
      "cell_type": "code",
      "source": [
        "for i in range(100):\n",
        "    print(label[i],label_encoder.inverse_transform(label)[i])"
      ],
      "execution_count": 0,
      "outputs": []
    },
    {
      "metadata": {
        "id": "pLbj0tuYT-rP",
        "colab_type": "code",
        "outputId": "c7aadc8a-ada5-463c-9a95-c367fe49240c",
        "colab": {
          "base_uri": "https://localhost:8080/",
          "height": 34
        }
      },
      "cell_type": "code",
      "source": [
        "Y_train = label\n",
        "X_train = trainm\n",
        "test = testm\n",
        "\n",
        "scaler = StandardScaler()\n",
        "scaler.fit(X_train)"
      ],
      "execution_count": 9,
      "outputs": [
        {
          "output_type": "execute_result",
          "data": {
            "text/plain": [
              "StandardScaler(copy=True, with_mean=True, with_std=True)"
            ]
          },
          "metadata": {
            "tags": []
          },
          "execution_count": 9
        }
      ]
    },
    {
      "metadata": {
        "id": "Xh4fY5V43EZt",
        "colab_type": "code",
        "colab": {}
      },
      "cell_type": "code",
      "source": [
        "from sklearn.linear_model import LogisticRegression\n",
        ">>> from sklearn.naive_bayes import GaussianNB\n",
        ">>> from sklearn.ensemble import RandomForestClassifier, VotingClassifier\n",
        "from sklearn.ensemble import RandomForestClassifier\n",
        "from sklearn.model_selection import KFold, StratifiedKFold\n",
        "from sklearn.model_selection import GridSearchCV\n",
        "from sklearn.discriminant_analysis import QuadraticDiscriminantAnalysis\n",
        "from sklearn.ensemble import GradientBoostingClassifier, ExtraTreesClassifier\n",
        "from sklearn.svm import SVC"
      ],
      "execution_count": 0,
      "outputs": []
    },
    {
      "metadata": {
        "id": "H8dXIe3e3UWD",
        "colab_type": "code",
        "colab": {}
      },
      "cell_type": "code",
      "source": [
        "from sklearn.feature_selection import RFE\n",
        "from sklearn.feature_selection import RFECV"
      ],
      "execution_count": 0,
      "outputs": []
    },
    {
      "metadata": {
        "id": "InPaGHlR3GLb",
        "colab_type": "code",
        "outputId": "6c89fdfb-5559-4dc6-95a4-8440e067bfda",
        "colab": {
          "base_uri": "https://localhost:8080/",
          "height": 384
        }
      },
      "cell_type": "code",
      "source": [
        "folds = StratifiedKFold(n_splits=5, shuffle=True, random_state=59)\n",
        "sub_preds_rf = np.zeros((test.shape[0], 9))\n",
        "new = np.zeros((X_train.shape[0], 9))\n",
        "oof_preds_rf = np.zeros((X_train.shape[0]))\n",
        "score = 0\n",
        "for i, (train_index, test_index) in enumerate(folds.split(X_train, Y_train)):\n",
        "    print('-'*20, i, '-'*20)\n",
        "#     gb = RandomForestClassifier(n_estimators = 50, n_jobs = -1)\n",
        "#     eclf1 = gb.fit(X_train.iloc[train_index], Y_train[train_index])\n",
        "    # clf.fit(X_train.iloc[train_index], Y_train[train_index])\n",
        "    clf_rf_3 = RandomForestClassifier(n_estimators = 500, n_jobs = -1)      \n",
        "    rfe = RFECV(estimator=clf_rf_3)\n",
        "    eclf1 = rfe.fit(X_train.iloc[train_index], Y_train[train_index])\n",
        "    oof_preds_rf[test_index] = eclf1.predict(X_train.iloc[test_index])\n",
        "    sub_preds_rf += eclf1.predict_proba(test) / folds.n_splits\n",
        "    new += eclf1.predict_proba(X_train) / folds.n_splits\n",
        "    score += eclf1.score(X_train.iloc[test_index], Y_train[test_index])\n",
        "    print('score ', eclf1.score(X_train.iloc[test_index], Y_train[test_index]))\n",
        "\n",
        "# print('Optimal number of features :', eclf1.n_features)"
      ],
      "execution_count": 12,
      "outputs": [
        {
          "output_type": "stream",
          "text": [
            "-------------------- 0 --------------------\n"
          ],
          "name": "stdout"
        },
        {
          "output_type": "stream",
          "text": [
            "/usr/local/lib/python3.6/dist-packages/sklearn/model_selection/_split.py:2053: FutureWarning: You should specify a value for 'cv' instead of relying on the default value. The default value will change from 3 to 5 in version 0.22.\n",
            "  warnings.warn(CV_WARNING, FutureWarning)\n"
          ],
          "name": "stderr"
        },
        {
          "output_type": "stream",
          "text": [
            "score  0.8981723237597912\n",
            "-------------------- 1 --------------------\n"
          ],
          "name": "stdout"
        },
        {
          "output_type": "stream",
          "text": [
            "/usr/local/lib/python3.6/dist-packages/sklearn/model_selection/_split.py:2053: FutureWarning: You should specify a value for 'cv' instead of relying on the default value. The default value will change from 3 to 5 in version 0.22.\n",
            "  warnings.warn(CV_WARNING, FutureWarning)\n"
          ],
          "name": "stderr"
        },
        {
          "output_type": "stream",
          "text": [
            "score  0.8771241830065359\n",
            "-------------------- 2 --------------------\n"
          ],
          "name": "stdout"
        },
        {
          "output_type": "stream",
          "text": [
            "/usr/local/lib/python3.6/dist-packages/sklearn/model_selection/_split.py:2053: FutureWarning: You should specify a value for 'cv' instead of relying on the default value. The default value will change from 3 to 5 in version 0.22.\n",
            "  warnings.warn(CV_WARNING, FutureWarning)\n"
          ],
          "name": "stderr"
        },
        {
          "output_type": "stream",
          "text": [
            "score  0.8871391076115486\n",
            "-------------------- 3 --------------------\n"
          ],
          "name": "stdout"
        },
        {
          "output_type": "stream",
          "text": [
            "/usr/local/lib/python3.6/dist-packages/sklearn/model_selection/_split.py:2053: FutureWarning: You should specify a value for 'cv' instead of relying on the default value. The default value will change from 3 to 5 in version 0.22.\n",
            "  warnings.warn(CV_WARNING, FutureWarning)\n"
          ],
          "name": "stderr"
        },
        {
          "output_type": "stream",
          "text": [
            "score  0.8789473684210526\n",
            "-------------------- 4 --------------------\n"
          ],
          "name": "stdout"
        },
        {
          "output_type": "stream",
          "text": [
            "/usr/local/lib/python3.6/dist-packages/sklearn/model_selection/_split.py:2053: FutureWarning: You should specify a value for 'cv' instead of relying on the default value. The default value will change from 3 to 5 in version 0.22.\n",
            "  warnings.warn(CV_WARNING, FutureWarning)\n"
          ],
          "name": "stderr"
        },
        {
          "output_type": "stream",
          "text": [
            "score  0.9009247027741083\n"
          ],
          "name": "stdout"
        }
      ]
    },
    {
      "metadata": {
        "id": "ZM82Nb1e5nyE",
        "colab_type": "code",
        "outputId": "1d1f0df9-7fed-4967-f59e-3de1860d62f4",
        "colab": {
          "base_uri": "https://localhost:8080/",
          "height": 139
        }
      },
      "cell_type": "code",
      "source": [
        "new"
      ],
      "execution_count": 0,
      "outputs": [
        {
          "output_type": "execute_result",
          "data": {
            "text/plain": [
              "array([[0.  , 0.  , 0.98, ..., 0.  , 0.  , 0.02],\n",
              "       [0.04, 0.94, 0.  , ..., 0.  , 0.02, 0.  ],\n",
              "       [0.  , 0.82, 0.04, ..., 0.  , 0.  , 0.12],\n",
              "       ...,\n",
              "       [0.  , 0.04, 0.82, ..., 0.  , 0.1 , 0.04],\n",
              "       [0.  , 0.  , 0.  , ..., 0.  , 0.96, 0.04],\n",
              "       [0.  , 0.  , 0.  , ..., 0.  , 0.  , 0.  ]])"
            ]
          },
          "metadata": {
            "tags": []
          },
          "execution_count": 23
        }
      ]
    },
    {
      "metadata": {
        "id": "V_pxcZP24YiY",
        "colab_type": "code",
        "colab": {}
      },
      "cell_type": "code",
      "source": [
        "pp = eclf1.predict_proba(X_train) / folds.n_splits"
      ],
      "execution_count": 0,
      "outputs": []
    },
    {
      "metadata": {
        "id": "uHw_TiGxHDRB",
        "colab_type": "code",
        "colab": {}
      },
      "cell_type": "code",
      "source": [
        "import itertools\n",
        "def plot_confusion_matrix(truth, pred, classes, normalize=False, title=''):\n",
        "    cm = confusion_matrix(truth, pred)\n",
        "    if normalize:\n",
        "        cm = cm.astype('float') / cm.sum(axis=1)[:, np.newaxis]\n",
        "    \n",
        "    plt.figure(figsize=(10, 10))\n",
        "    plt.imshow(cm, interpolation='nearest', cmap=plt.cm.Blues)\n",
        "    plt.title('Confusion matrix', size=15)\n",
        "    plt.colorbar(fraction=0.046, pad=0.04)\n",
        "    tick_marks = np.arange(len(classes))\n",
        "    plt.xticks(tick_marks, classes, rotation=45)\n",
        "    plt.yticks(tick_marks, classes)\n",
        "\n",
        "    fmt = '.2f' if normalize else 'd'\n",
        "    thresh = cm.max() / 2.\n",
        "    for i, j in itertools.product(range(cm.shape[0]), range(cm.shape[1])):\n",
        "        plt.text(j, i, format(cm[i, j], fmt),\n",
        "                 horizontalalignment=\"center\",\n",
        "                 color=\"white\" if cm[i, j] > thresh else \"black\")\n",
        "\n",
        "    plt.ylabel('True label')\n",
        "    plt.xlabel('Predicted label')\n",
        "    plt.grid(False)\n",
        "    plt.tight_layout()"
      ],
      "execution_count": 0,
      "outputs": []
    },
    {
      "metadata": {
        "id": "5CPWZb0uJPKm",
        "colab_type": "code",
        "colab": {}
      },
      "cell_type": "code",
      "source": [
        "for i in range(3810):\n",
        "    if Y_train[i]!=oof_preds_rf[i]:\n",
        "        inx.append(i)"
      ],
      "execution_count": 0,
      "outputs": []
    },
    {
      "metadata": {
        "id": "6DqXuuCq9ZAj",
        "colab_type": "code",
        "colab": {}
      },
      "cell_type": "code",
      "source": [
        "val = eclf1.predict_proba(X_train)"
      ],
      "execution_count": 0,
      "outputs": []
    },
    {
      "metadata": {
        "id": "6TJ78LOi8DpZ",
        "colab_type": "code",
        "outputId": "2b19b535-509e-4af4-94c3-6f07c7a18c0a",
        "colab": {
          "base_uri": "https://localhost:8080/",
          "height": 34
        }
      },
      "cell_type": "code",
      "source": [
        "c = 0\n",
        "for i in range(len(inx)):\n",
        "    c += np.abs(val[inx[i]][Y_train[inx[i]]]-val[inx[i]][int(oof_preds_rf[inx[i]])])\n",
        "c /= len(inx)\n",
        "c"
      ],
      "execution_count": 0,
      "outputs": [
        {
          "output_type": "execute_result",
          "data": {
            "text/plain": [
              "0.22484558773677787"
            ]
          },
          "metadata": {
            "tags": []
          },
          "execution_count": 42
        }
      ]
    },
    {
      "metadata": {
        "id": "tfAR7Bv38acA",
        "colab_type": "code",
        "outputId": "66169208-64ef-45e6-e85c-ab76d6ac2096",
        "colab": {
          "base_uri": "https://localhost:8080/",
          "height": 34
        }
      },
      "cell_type": "code",
      "source": [
        "Y_train[inx[0]],oof_preds_rf[inx[0]]"
      ],
      "execution_count": 0,
      "outputs": [
        {
          "output_type": "execute_result",
          "data": {
            "text/plain": [
              "(1, 8.0)"
            ]
          },
          "metadata": {
            "tags": []
          },
          "execution_count": 38
        }
      ]
    },
    {
      "metadata": {
        "id": "ts3rJPdHGRl4",
        "colab_type": "code",
        "outputId": "fc736e46-8393-4c7d-ce01-341b3321d0a9",
        "colab": {
          "base_uri": "https://localhost:8080/",
          "height": 648
        }
      },
      "cell_type": "code",
      "source": [
        "from sklearn.metrics import accuracy_score, confusion_matrix\n",
        "plot_confusion_matrix(Y_train, oof_preds_rf, label_encoder.classes_)"
      ],
      "execution_count": 0,
      "outputs": [
        {
          "output_type": "display_data",
          "data": {
            "image/png": "[encoded data removed]",
            "text/plain": [
              "<Figure size 720x720 with 2 Axes>"
            ]
          },
          "metadata": {
            "tags": []
          }
        }
      ]
    },
    {
      "metadata": {
        "id": "9gNlnBbAUCwh",
        "colab_type": "code",
        "outputId": "6bb87125-eb52-4f5c-ec24-0521efeb4846",
        "colab": {
          "base_uri": "https://localhost:8080/",
          "height": 208
        }
      },
      "cell_type": "code",
      "source": [
        "folds = StratifiedKFold(n_splits=5, shuffle=True, random_state=59)\n",
        "sub_preds_rf = np.zeros((test.shape[0], 9))\n",
        "oof_preds_rf = np.zeros((X_train.shape[0]))\n",
        "score = 0\n",
        "\n",
        "for i, (train_index, test_index) in enumerate(folds.split(X_train, Y_train)):\n",
        "    print('-'*20, i, '-'*20)\n",
        "    \n",
        "    clf =  RandomForestClassifier(n_estimators = 50,n_jobs = -1)\n",
        "    clf.fit(X_train.iloc[train_index], Y_train[train_index])\n",
        "    oof_preds_rf[test_index] = clf.predict(X_train.iloc[test_index])\n",
        "    sub_preds_rf += clf.predict_proba(test) / folds.n_splits\n",
        "    score += clf.score(X_train.iloc[test_index], Y_train[test_index])\n",
        "    print('score ', clf.score(X_train.iloc[test_index], Y_train[test_index]))\n",
        "#     importances = clf.feature_importances_\n",
        "#     indices = np.argsort(importances)\n",
        "#     features = X_train.columns\n",
        "#     hm = 30\n",
        "#     plt.figure(figsize=(7, 10))\n",
        "#     plt.title('Feature Importances')\n",
        "#     plt.barh(range(len(indices[:hm])), importances[indices][:hm], color='b', align='center')\n",
        "#     plt.yticks(range(len(indices[:hm])), [features[i] for i in indices])\n",
        "#     plt.xlabel('Relative Importance')\n",
        "#     plt.show()\n",
        "\n",
        "print('Avg Accuracy', score / folds.n_splits)"
      ],
      "execution_count": 0,
      "outputs": [
        {
          "output_type": "stream",
          "text": [
            "-------------------- 0 --------------------\n",
            "score  0.8994778067885117\n",
            "-------------------- 1 --------------------\n",
            "score  0.9019607843137255\n",
            "-------------------- 2 --------------------\n",
            "score  0.9146981627296588\n",
            "-------------------- 3 --------------------\n",
            "score  0.8789473684210526\n",
            "-------------------- 4 --------------------\n",
            "score  0.9233817701453104\n",
            "Avg Accuracy 0.9036931784796518\n"
          ],
          "name": "stdout"
        }
      ]
    },
    {
      "metadata": {
        "id": "miSuIhwM_teL",
        "colab_type": "code",
        "outputId": "d9176031-9104-469c-f2f9-b51d7605d445",
        "colab": {
          "base_uri": "https://localhost:8080/",
          "height": 648
        }
      },
      "cell_type": "code",
      "source": [
        "from sklearn.metrics import accuracy_score, confusion_matrix\n",
        "plot_confusion_matrix(Y_train, oof_preds_rf, label_encoder.classes_)"
      ],
      "execution_count": 0,
      "outputs": [
        {
          "output_type": "display_data",
          "data": {
            "image/png": "[encoded data removed]",
            "text/plain": [
              "<Figure size 720x720 with 2 Axes>"
            ]
          },
          "metadata": {
            "tags": []
          }
        }
      ]
    },
    {
      "metadata": {
        "id": "W7rUItN1ZKtW",
        "colab_type": "code",
        "outputId": "05309004-e6df-4701-fd13-e75f31df2659",
        "colab": {
          "base_uri": "https://localhost:8080/",
          "height": 52
        }
      },
      "cell_type": "code",
      "source": [
        "xy = label_encoder.inverse_transform(sub_preds_rf.argmax(axis=1))\n",
        "xy\n"
      ],
      "execution_count": 13,
      "outputs": [
        {
          "output_type": "execute_result",
          "data": {
            "text/plain": [
              "array(['hard_tiles_large_space', 'carpet', 'tiled', ...,\n",
              "       'hard_tiles_large_space', 'concrete', 'wood'], dtype=object)"
            ]
          },
          "metadata": {
            "tags": []
          },
          "execution_count": 13
        }
      ]
    },
    {
      "metadata": {
        "id": "UCmp1FeUZbR6",
        "colab_type": "code",
        "outputId": "5d2cd1b0-327e-47f6-938d-c2a4ecf0afde",
        "colab": {
          "base_uri": "https://localhost:8080/",
          "height": 191
        }
      },
      "cell_type": "code",
      "source": [
        "submission1 = pd.DataFrame({\n",
        "        \"series_id\": testm.index,\n",
        "        \"surface\": xy,\n",
        "        \n",
        "    })\n",
        "submission1.surface.value_counts()"
      ],
      "execution_count": 14,
      "outputs": [
        {
          "output_type": "execute_result",
          "data": {
            "text/plain": [
              "concrete                  893\n",
              "wood                      678\n",
              "soft_pvc                  659\n",
              "soft_tiles                468\n",
              "tiled                     347\n",
              "hard_tiles_large_space    313\n",
              "fine_concrete             307\n",
              "carpet                    150\n",
              "hard_tiles                  1\n",
              "Name: surface, dtype: int64"
            ]
          },
          "metadata": {
            "tags": []
          },
          "execution_count": 14
        }
      ]
    },
    {
      "metadata": {
        "id": "F3bLwWIOZlMq",
        "colab_type": "code",
        "colab": {}
      },
      "cell_type": "code",
      "source": [
        "submission1.to_csv('submission.csv', index=False)"
      ],
      "execution_count": 0,
      "outputs": []
    },
    {
      "metadata": {
        "id": "b2HrLSE4Zxap",
        "colab_type": "code",
        "outputId": "2dcb94ea-40b8-414f-d64e-6636fc308432",
        "colab": {
          "base_uri": "https://localhost:8080/",
          "height": 52
        }
      },
      "cell_type": "code",
      "source": [
        "!kaggle competitions submit -c career-con-2019 -f submission.csv -m \"ett_fet1\""
      ],
      "execution_count": 16,
      "outputs": [
        {
          "output_type": "stream",
          "text": [
            "100% 53.8k/53.8k [00:02<00:00, 18.8kB/s]\n",
            "Successfully submitted to CareerCon 2019 - Help Navigate Robots "
          ],
          "name": "stdout"
        }
      ]
    },
    {
      "metadata": {
        "id": "ql3fdXOaZ2Z_",
        "colab_type": "code",
        "colab": {}
      },
      "cell_type": "code",
      "source": [
        ""
      ],
      "execution_count": 0,
      "outputs": []
    }
  ]
}